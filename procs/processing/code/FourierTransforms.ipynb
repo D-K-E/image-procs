{
 "cells": [
  {
   "cell_type": "markdown",
   "metadata": {},
   "source": [
    "# Fourier Transforms\n",
    "\n",
    "A means to describe waveforms as sinusoidal sums.\n",
    "\n",
    "## Introduction\n",
    "\n",
    "What is a sinusoid ? A sine wave. What is sine ? It is what we know from trigonometry. "
   ]
  },
  {
   "cell_type": "code",
   "execution_count": null,
   "metadata": {},
   "outputs": [],
   "source": [
    "import matplotlib.pyplot as plt\n",
    "import math"
   ]
  },
  {
   "cell_type": "markdown",
   "metadata": {},
   "source": [
    "Here is a sine wave."
   ]
  },
  {
   "cell_type": "code",
   "execution_count": null,
   "metadata": {},
   "outputs": [],
   "source": [
    "xvals = []\n",
    "yvals = []\n",
    "for i in range(100):\n",
    "    xvals.append(i)\n",
    "    yvals.append(math.sin(i))\n",
    "    \n",
    "plt.plot(xvals, yvals)"
   ]
  },
  {
   "cell_type": "markdown",
   "metadata": {},
   "source": [
    "Let's make it a function."
   ]
  },
  {
   "cell_type": "code",
   "execution_count": null,
   "metadata": {},
   "outputs": [],
   "source": [
    "def sinplot(sample_nb: int):\n",
    "    xvals = []\n",
    "    yvals = []\n",
    "    for i in range(sample_nb):\n",
    "        xvals.append(i)\n",
    "        yvals.append(math.sin(i))\n",
    "    \n",
    "    plt.plot(xvals, yvals, xvals, [0 for i in range(len(xvals))])"
   ]
  },
  {
   "cell_type": "code",
   "execution_count": null,
   "metadata": {},
   "outputs": [],
   "source": [
    "sinplot(10)"
   ]
  },
  {
   "cell_type": "code",
   "execution_count": null,
   "metadata": {},
   "outputs": [],
   "source": [
    "sinplot(100)"
   ]
  },
  {
   "cell_type": "code",
   "execution_count": null,
   "metadata": {},
   "outputs": [],
   "source": [
    "sinplot(1000)"
   ]
  },
  {
   "cell_type": "markdown",
   "metadata": {},
   "source": [
    "The above demonstration should make it clear,\n",
    "that the frequency of sine waves can help us \n",
    "to describe different shapes. Notice that it is periodic,\n",
    "since $sin(x) = sin(x+2\\pi)$ where $x \\in \\mathbb{R}$\n",
    "\n",
    "In its most basic \n",
    "form a sine wave can be described as a function of\n",
    "time as in \n",
    "$$y(t) = a\\sin k(x + \\beta)$$ \n",
    "\n",
    "We shall see what each element does as we advance\n",
    "\n",
    "Let's implement this."
   ]
  },
  {
   "cell_type": "code",
   "execution_count": null,
   "metadata": {},
   "outputs": [],
   "source": [
    "def sinfn(a,k, beta, t): return a*math.sin(k*(t+beta))\n",
    "def sinmap(a,k,beta,sample_nb, fn=sinfn):\n",
    "    xvals=list(range(sample_nb))\n",
    "    yvals=[fn(a,k,beta,i) for i in xvals]\n",
    "    return xvals, yvals\n",
    "\n",
    "def sinMultiMap(amps, periods, shifts, sample_nb, fns):\n",
    "    if (any([a <= 0 for a  in amps]) or \n",
    "        any([k <=0 for k in periods])):\n",
    "        raise ValueError(\"all amps and shifts must be positive\")\n",
    "    lst = []\n",
    "    for i in range(len(amps)):\n",
    "        a = amps[i]\n",
    "        k = periods[i]\n",
    "        beta = shifts[i]\n",
    "        fn = fns[i]\n",
    "        xs, ys = sinmap(a,k,beta, sample_nb, fn)\n",
    "        lst.append(xs)\n",
    "        lst.append(ys)\n",
    "    return lst\n",
    "    \n",
    "\n",
    "def sinwave_plot(a,k,beta, sample_nb, fn=sinfn):\n",
    "    if a <= 0 or k <= 0:\n",
    "        raise ValueError(\"a and k must be positive\")\n",
    "    xvals, yvals = sinmap(a,k,beta,sample_nb, fn)    \n",
    "    plt.plot(xvals, yvals, xvals, [0 for i in range(len(xvals))])\n",
    "    "
   ]
  },
  {
   "cell_type": "code",
   "execution_count": null,
   "metadata": {},
   "outputs": [],
   "source": [
    "sinwave_plot(a=1,k=1,beta=0,sample_nb=100) # sin(x)"
   ]
  },
  {
   "cell_type": "markdown",
   "metadata": {},
   "source": [
    "As we have stated the sin function is periodic. \n",
    "A period is formally defined as:\n",
    "<q>The period of a periodic function f(x) is the smallest positive real number p such that f(x+p) = f(x) for all values of x for which f(x) and f(x+p) are defined (Saul 2001)</q>\n",
    "\n",
    "For sine function $p=2\\pi$. For example for sin(3x) its period is $\\frac{2\\pi}{3}$ since $\\sin(3(x+ \\frac{2\\pi}{3})$\n",
    "\n",
    "Let's plot this function"
   ]
  },
  {
   "cell_type": "code",
   "execution_count": null,
   "metadata": {},
   "outputs": [],
   "source": [
    "sinwave_plot(a=1,k=3,\n",
    "             beta=2*math.pi/3,\n",
    "             sample_nb=100) # sin(3(x + 2pi/3))"
   ]
  },
  {
   "cell_type": "markdown",
   "metadata": {},
   "source": [
    "Let's verify if it is indeed periodic by multiplying beta with an arbitrary number."
   ]
  },
  {
   "cell_type": "code",
   "execution_count": null,
   "metadata": {},
   "outputs": [],
   "source": [
    "sinwave_plot(a=1,k=3,\n",
    "             beta=2*math.pi/3 * 6, # 6 is arbitrary\n",
    "             sample_nb=100) # sin(3(x + 2pi/3))"
   ]
  },
  {
   "cell_type": "markdown",
   "metadata": {},
   "source": [
    "How do we change the amplitude, the peak of the waves, of these functions ? By using the parameter a. Let's see. "
   ]
  },
  {
   "cell_type": "code",
   "execution_count": null,
   "metadata": {},
   "outputs": [],
   "source": [
    "sinwave_plot(a=1,k=3,\n",
    "             beta=2*math.pi/3,\n",
    "             sample_nb=100) # sin(3(x + 2pi/3))"
   ]
  },
  {
   "cell_type": "markdown",
   "metadata": {},
   "source": [
    "Notice that our y axis ranges from -2 to 2 now."
   ]
  },
  {
   "cell_type": "markdown",
   "metadata": {},
   "source": [
    "Before going further let's implement how to plot 2 waves."
   ]
  },
  {
   "cell_type": "code",
   "execution_count": null,
   "metadata": {},
   "outputs": [],
   "source": [
    "def n_sinewave_plot(amps, periods, shifts, sample_nb, fns):\n",
    "    plotable = sinMultiMap(amps, periods, shifts, sample_nb, fns)\n",
    "    \n",
    "    plt.plot(*plotable)\n",
    "    \n",
    "def double_sinewave_plot(a1: int,k1:int,beta1:int,\n",
    "                    a2:int, k2:int, beta2:int, sample_nb: int):\n",
    "    n_sinewave_plot([a1, a2], [k1, k2], [beta1, beta2], sample_nb,\n",
    "                    [sinfn, sinfn])\n"
   ]
  },
  {
   "cell_type": "markdown",
   "metadata": {},
   "source": [
    "Now let's see if we can shift sine waves"
   ]
  },
  {
   "cell_type": "code",
   "execution_count": null,
   "metadata": {},
   "outputs": [],
   "source": [
    "double_sinewave_plot(a1=1, k1=1,beta1=1,\n",
    "                a2=1, k2=1,beta2=-1,\n",
    "                sample_nb=100)"
   ]
  },
  {
   "cell_type": "markdown",
   "metadata": {},
   "source": [
    "As you can see beta controls the shift of sine wave. \n",
    "\n",
    "With this we had seen the function of three major parameters of the \n",
    "sine wave: \n",
    "<dl>\n",
    "    <dt>a</dt>\n",
    "    <dd>is the amplitude of sine wave. It gives us how far from the zero the functions can get. It must be a positive value</dd>\n",
    "    <dt>k</dt>\n",
    "    <dd>is the periodicity/frequency of sine wave. It gives us how many periods are repeated within an interval of $2\\pi$. The period of the curve is $2\\pi/k$. It must be a positive value</dd>\n",
    "    <dt>$\\beta$</dt>\n",
    "    <dd>is phase or phase shift of sine wave. It can be an arbitrary value</dd>\n",
    "</dl>"
   ]
  },
  {
   "cell_type": "markdown",
   "metadata": {},
   "source": [
    "What about cosine ? Well since $\\cos(x) = \\sin(\\frac{\\pi}{2} - x)$, it basically means we shift x to the left by $\\pi /2$. \n",
    "Let's implement this."
   ]
  },
  {
   "cell_type": "code",
   "execution_count": null,
   "metadata": {},
   "outputs": [],
   "source": [
    "def coswave_plot(a,k,beta, sample_nb):\n",
    "    sinwave_plot(a,k,beta + math.pi/2, sample_nb)"
   ]
  },
  {
   "cell_type": "code",
   "execution_count": null,
   "metadata": {},
   "outputs": [],
   "source": [
    "sinwave_plot(a=1,k=3,\n",
    "             beta=2*math.pi/3,\n",
    "             sample_nb=100) # sin(3(x + 2pi/3))"
   ]
  },
  {
   "cell_type": "code",
   "execution_count": null,
   "metadata": {},
   "outputs": [],
   "source": [
    "coswave_plot(a=1,k=3,\n",
    "             beta=2*math.pi/3,\n",
    "             sample_nb=100) # cos(3(x + 2pi/3))"
   ]
  },
  {
   "cell_type": "markdown",
   "metadata": {},
   "source": [
    "What if we want to combine these expressions ? \n",
    "For example add them together? "
   ]
  },
  {
   "cell_type": "code",
   "execution_count": null,
   "metadata": {},
   "outputs": [],
   "source": [
    "def combined_sinewave_plot(amps: [int],\n",
    "                           periods: [int],\n",
    "                           shifts: [int],\n",
    "                           sample_nb: int, fns):\n",
    "    \"plot added sine waves\"\n",
    "    yss = sinMultiMap(amps, periods, shifts, sample_nb, fns)\n",
    "    yss = [yss[i] for i in range(len(yss)) if i % 2 != 0]\n",
    "    plotable = []\n",
    "    srange = list(range(sample_nb))\n",
    "    for i in srange:\n",
    "        counter = 0\n",
    "        for k in range(len(amps)):\n",
    "            counter += yss[k][i]\n",
    "        plotable.append(counter)\n",
    "    plt.plot(srange, plotable, # yellow dash for second sin wave\n",
    "            )"
   ]
  },
  {
   "cell_type": "markdown",
   "metadata": {},
   "source": [
    "Let's plot individual and combined sinewaves."
   ]
  },
  {
   "cell_type": "code",
   "execution_count": null,
   "metadata": {},
   "outputs": [],
   "source": [
    "sinwave_plot(a=1, k=2, beta=0, sample_nb=100)"
   ]
  },
  {
   "cell_type": "code",
   "execution_count": null,
   "metadata": {},
   "outputs": [],
   "source": [
    "sinwave_plot(a=1, k=2, beta=3, sample_nb=100)"
   ]
  },
  {
   "cell_type": "code",
   "execution_count": null,
   "metadata": {},
   "outputs": [],
   "source": [
    "combined_sinewave_plot(amps=[1,1], \n",
    "                       periods=[2, 2], \n",
    "                       shifts=[0, 3], \n",
    "                       sample_nb=100, fns=[sinfn, sinfn])"
   ]
  },
  {
   "cell_type": "markdown",
   "metadata": {},
   "source": [
    "What if we change the amplitude as well?"
   ]
  },
  {
   "cell_type": "code",
   "execution_count": null,
   "metadata": {},
   "outputs": [],
   "source": [
    "combined_sinewave_plot(amps=[5,1], \n",
    "                       periods=[2, 2], \n",
    "                       shifts=[0, 3], \n",
    "                       sample_nb=100,\n",
    "                       fns=[sinfn, sinfn])"
   ]
  },
  {
   "cell_type": "markdown",
   "metadata": {},
   "source": [
    "What if we change the frequency ?"
   ]
  },
  {
   "cell_type": "code",
   "execution_count": null,
   "metadata": {},
   "outputs": [],
   "source": [
    "combined_sinewave_plot(amps=[1,1], \n",
    "                       periods=[3, 2], \n",
    "                       shifts=[0, 0], \n",
    "                       sample_nb=100, fns=[sinfn, sinfn])"
   ]
  },
  {
   "cell_type": "markdown",
   "metadata": {},
   "source": [
    "This demonstration should have made it clear that for sine waves that \n",
    "have the same frequency addition of them produces another sine wave.\n",
    "However once they differ in frequency, we loose the property of\n",
    "obtaining a new sine wave. Of course we do not expect that you\n",
    "would be satisfied with simple demonstrations for the truth of that\n",
    "statement. You can consult (Saul 2001) p, 192 for a proof."
   ]
  },
  {
   "cell_type": "markdown",
   "metadata": {},
   "source": [
    "How about combining sine and cosine to obtain a linear combination ?\n",
    "\n",
    "If a linear combination is $af(x) + bg(x)$ where a and b are \n",
    "constants, let's draw k(x) where $k(x) = 3\\sin(x) + 4\\cos(x)$"
   ]
  },
  {
   "cell_type": "code",
   "execution_count": null,
   "metadata": {},
   "outputs": [],
   "source": [
    "def linear_sinwave_combination_plot(amps: [int],\n",
    "                                    periods: [int],\n",
    "                                    shifts: [int],\n",
    "                                    fns: list,\n",
    "                                    sample_nb: int,):\n",
    "    if (any([a <= 0 for a  in amps]) or \n",
    "        any([k <=0 for k in periods])):\n",
    "        raise ValueError(\"all amps and shifts must be positive\")\n",
    "    yss = []\n",
    "    xvals1 = list(range(sample_nb))\n",
    "    yss = sinMultiMap(amps, periods, shifts, sample_nb, fns)\n",
    "    plotable = []\n",
    "    for i in range(len(xvals1)):\n",
    "        counter = 0\n",
    "        for k in range(len(amps)):\n",
    "            counter += yss[k][i]\n",
    "        plotable.append(counter)\n",
    "    plt.plot(xvals1, plotable, # yellow dash for second sin wave\n",
    "             xvals1, [0 for i in range(len(xvals))] # midline\n",
    "            )\n",
    "\n",
    "def cosfn(a,k, beta, t): return sinfn(a,k,beta+math.pi/2,t)"
   ]
  },
  {
   "cell_type": "code",
   "execution_count": null,
   "metadata": {},
   "outputs": [],
   "source": [
    "linear_sinwave_combination_plot(amps=[3, 4], periods=[1, 1],\n",
    "                               shifts=[0, 0],\n",
    "                               fns=[sinfn, cosfn],\n",
    "                               sample_nb=100)"
   ]
  },
  {
   "cell_type": "markdown",
   "metadata": {},
   "source": [
    "From the result, it should also be obvious that linear combination \n",
    "of the form $A\\sin(x) + B\\cos(x)$ is also a sine wave. Again the \n",
    "curious user can see Saul 2001, p. 190 for a proof.\n",
    "\n",
    "Let's see what we can do with sine waves whose frequencies do not agree. Let's graph $y=x + \\sin(x)$ and $y=x^2 + \\cos(x)$ and lastly\n",
    "$y= \\sin(x) + 1/3 \\sin(3x)$"
   ]
  },
  {
   "cell_type": "code",
   "execution_count": null,
   "metadata": {},
   "outputs": [],
   "source": [
    "sinwave_plot(a=1, k=1, beta=0,\n",
    "             sample_nb=100,\n",
    "             fn=lambda x,y,z,t: t+sinfn(x,y,z,t))"
   ]
  },
  {
   "cell_type": "code",
   "execution_count": null,
   "metadata": {},
   "outputs": [],
   "source": [
    "sinwave_plot(a=1, k=1, beta=0,\n",
    "             sample_nb=100,\n",
    "             fn=lambda x,y,z,t: (t**2)+cosfn(x,y,z,t))"
   ]
  },
  {
   "cell_type": "code",
   "execution_count": null,
   "metadata": {},
   "outputs": [],
   "source": [
    "combined_sinewave_plot(amps=[1/3,1], \n",
    "                       periods=[3, 1], \n",
    "                       shifts=[0, 0], \n",
    "                       sample_nb=100, fns=[sinfn, sinfn])"
   ]
  },
  {
   "cell_type": "markdown",
   "metadata": {},
   "source": [
    "Let's make it a little more explicit what's happening here."
   ]
  },
  {
   "cell_type": "code",
   "execution_count": null,
   "metadata": {},
   "outputs": [],
   "source": [
    "# let's make whats happening a little more explicit\n",
    "double_sinewave_plot(1/3, 3,0, 1,1,0, 100)"
   ]
  },
  {
   "cell_type": "markdown",
   "metadata": {},
   "source": [
    "To put it bluntly, the sine values of the function $\\sin(x)$ is disturbed by $1/3\\sin(3x)$. Now let us compare three graphs:\n",
    "$$y = \\sin(x)$$\n",
    "$$y = \\sin(x) + 1/3 \\sin(3x)$$\n",
    "$$y = \\sin(x) + 1/3 \\sin(3x) + 1/5 \\sin(5x)$$"
   ]
  },
  {
   "cell_type": "code",
   "execution_count": null,
   "metadata": {},
   "outputs": [],
   "source": [
    "# first one\n",
    "sinwave_plot(a=1, k=1, beta=0,\n",
    "             sample_nb=100)"
   ]
  },
  {
   "cell_type": "code",
   "execution_count": null,
   "metadata": {},
   "outputs": [],
   "source": [
    "# second one\n",
    "combined_sinewave_plot(amps=[1/3,1], \n",
    "                       periods=[3, 1], \n",
    "                       shifts=[0, 0], \n",
    "                       sample_nb=100, fns=[sinfn, sinfn])"
   ]
  },
  {
   "cell_type": "code",
   "execution_count": null,
   "metadata": {},
   "outputs": [],
   "source": [
    "# third one\n",
    "combined_sinewave_plot(amps=[1,1/3, 1/5], \n",
    "                       periods=[1, 3, 5], \n",
    "                       shifts=[0, 0, 0], \n",
    "                       sample_nb=100, fns=[sinfn, sinfn, sinfn])"
   ]
  },
  {
   "cell_type": "code",
   "execution_count": null,
   "metadata": {},
   "outputs": [],
   "source": [
    "# let's look at the last one more closely\n",
    "n_sinewave_plot(amps=[1,1/3, 1/5], \n",
    "                       periods=[1, 3, 5], \n",
    "                       shifts=[0, 0, 0], \n",
    "                       sample_nb=100, fns=[sinfn, sinfn, sinfn])"
   ]
  },
  {
   "cell_type": "markdown",
   "metadata": {},
   "source": [
    "Notice the sequence $\\int_a^{\\infty} a\\sin(\\frac{1}{a}x) da$ of sin functions which give the corresponding waves.\n",
    "\n",
    "This sequence converges to a limit. \n",
    "In fact any periodic function, that is anything that repeats over time, can be described using the limit of the sum of sins and cosines. It is a way to approximate patterns, anything that repeats, \n",
    "using sine waves.\n",
    "This is the insight that Fourier had when he described Fourier Series and their analysis.  "
   ]
  },
  {
   "cell_type": "markdown",
   "metadata": {},
   "source": [
    "Formally Fourier transform of a function can be written as the following:\n",
    "$$\\hat{f}(b) = \\int_{-\\infty}^{\\infty}f(x) e^{-2\\pi i x b}dx$$\n"
   ]
  },
  {
   "cell_type": "code",
   "execution_count": null,
   "metadata": {},
   "outputs": [],
   "source": []
  },
  {
   "cell_type": "markdown",
   "metadata": {},
   "source": [
    "## References\n",
    "\n",
    "- Saul, Mark. 2001. Trigonometry. Boston."
   ]
  },
  {
   "cell_type": "code",
   "execution_count": null,
   "metadata": {},
   "outputs": [],
   "source": []
  }
 ],
 "metadata": {
  "kernelspec": {
   "display_name": "Python 3",
   "language": "python",
   "name": "python3"
  },
  "language_info": {
   "codemirror_mode": {
    "name": "ipython",
    "version": 3
   },
   "file_extension": ".py",
   "mimetype": "text/x-python",
   "name": "python",
   "nbconvert_exporter": "python",
   "pygments_lexer": "ipython3",
   "version": "3.7.6"
  }
 },
 "nbformat": 4,
 "nbformat_minor": 4
}
